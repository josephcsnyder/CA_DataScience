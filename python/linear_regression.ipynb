{
 "cells": [
  {
   "cell_type": "code",
   "execution_count": 1,
   "metadata": {},
   "outputs": [
    {
     "name": "stdout",
     "output_type": "stream",
     "text": [
      "Best fit slope (m): 0.26\n",
      "Best fit intercept (b): 1.74\n",
      "Returned 'best fit' error: 4.999999999999999\n"
     ]
    }
   ],
   "source": [
    "# simple linear regression project\n",
    "# start by entering your datapoints to the list below\n",
    "\n",
    "datapoints = [(1, 2), (2, 0), (3, 4), (4, 4), (5, 3)]\n",
    "\n",
    "slope_max = 100\n",
    "slope_min = -100\n",
    "slope_step_size = 0.01\n",
    "\n",
    "intercept_max = 200\n",
    "intercept_min = -200\n",
    "intercept_step_size = 0.01\n",
    "\n",
    "possible_ms = [number * slope_step_size for number in range(slope_min, slope_max + 1)]\n",
    "possible_bs = [number * intercept_step_size for number in range(intercept_min, intercept_max + 1)]\n",
    "\n",
    "\n",
    "def get_y(m, b, x):\n",
    "    y = m * x + b\n",
    "    return y\n",
    "\n",
    "\n",
    "def calculate_error(m, b, point):\n",
    "    x_point, y_point = point\n",
    "    y = get_y(m, b, x_point)\n",
    "    difference_y = (y - y_point)\n",
    "    distance = abs(difference_y)\n",
    "    return distance\n",
    "\n",
    "\n",
    "def calculate_all_error(m, b, point):\n",
    "    total_error = 0\n",
    "    for point in datapoints:\n",
    "        error = calculate_error(m, b, point)\n",
    "        total_error += error\n",
    "    return total_error\n",
    "\n",
    "\n",
    "smallest_error = (float(\"inf\"))\n",
    "best_m = 0\n",
    "best_b = 0\n",
    "\n",
    "for m in possible_ms:\n",
    "    for b in possible_bs:\n",
    "        error = calculate_all_error(m, b, datapoints)\n",
    "        if error < smallest_error:\n",
    "            best_m = m\n",
    "            best_b = b\n",
    "            smallest_error = error\n",
    "\n",
    "print(\"Best fit slope (m): \" + str(best_m))\n",
    "print(\"Best fit intercept (b): \" + str(best_b))\n",
    "print(\"Returned 'best fit' error: \" + str(smallest_error))\n"
   ]
  }
 ],
 "metadata": {
  "kernelspec": {
   "display_name": "Python 3",
   "language": "python",
   "name": "python3"
  },
  "language_info": {
   "codemirror_mode": {
    "name": "ipython",
    "version": 3
   },
   "file_extension": ".py",
   "mimetype": "text/x-python",
   "name": "python",
   "nbconvert_exporter": "python",
   "pygments_lexer": "ipython3",
   "version": "3.8.3"
  }
 },
 "nbformat": 4,
 "nbformat_minor": 4
}
